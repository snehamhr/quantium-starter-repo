{
 "cells": [
  {
   "cell_type": "code",
   "execution_count": 1,
   "id": "cee73832-ee69-4b83-9a4a-2b9d2380124f",
   "metadata": {},
   "outputs": [],
   "source": [
    "import pandas as pd"
   ]
  },
  {
   "cell_type": "code",
   "execution_count": 2,
   "id": "12d0b460-115b-4853-a07b-53f5623953ef",
   "metadata": {},
   "outputs": [],
   "source": [
    "df_1=pd.read_csv(\"daily_sales_data_0.csv\")"
   ]
  },
  {
   "cell_type": "code",
   "execution_count": 3,
   "id": "414781fd-7133-4f0c-9a29-51ce68950647",
   "metadata": {},
   "outputs": [],
   "source": [
    "df_2=pd.read_csv(\"daily_sales_data_1.csv\")"
   ]
  },
  {
   "cell_type": "code",
   "execution_count": 4,
   "id": "b12b131f-59d1-4ae5-b108-28c105af91de",
   "metadata": {},
   "outputs": [],
   "source": [
    "df_3=pd.read_csv(\"daily_sales_data_2.csv\")"
   ]
  },
  {
   "cell_type": "code",
   "execution_count": 5,
   "id": "4bc65c13-fd69-45ee-9f87-e6c9f19450a3",
   "metadata": {},
   "outputs": [],
   "source": [
    "df= pd.concat([df_1, df_2, df_3], ignore_index= True)"
   ]
  },
  {
   "cell_type": "code",
   "execution_count": 6,
   "id": "6e3b194a-3759-4085-b980-d84204243f49",
   "metadata": {},
   "outputs": [
    {
     "data": {
      "text/html": [
       "<div>\n",
       "<style scoped>\n",
       "    .dataframe tbody tr th:only-of-type {\n",
       "        vertical-align: middle;\n",
       "    }\n",
       "\n",
       "    .dataframe tbody tr th {\n",
       "        vertical-align: top;\n",
       "    }\n",
       "\n",
       "    .dataframe thead th {\n",
       "        text-align: right;\n",
       "    }\n",
       "</style>\n",
       "<table border=\"1\" class=\"dataframe\">\n",
       "  <thead>\n",
       "    <tr style=\"text-align: right;\">\n",
       "      <th></th>\n",
       "      <th>product</th>\n",
       "      <th>price</th>\n",
       "      <th>quantity</th>\n",
       "      <th>date</th>\n",
       "      <th>region</th>\n",
       "    </tr>\n",
       "  </thead>\n",
       "  <tbody>\n",
       "    <tr>\n",
       "      <th>0</th>\n",
       "      <td>pink morsel</td>\n",
       "      <td>$3.00</td>\n",
       "      <td>546</td>\n",
       "      <td>2018-02-06</td>\n",
       "      <td>north</td>\n",
       "    </tr>\n",
       "    <tr>\n",
       "      <th>1</th>\n",
       "      <td>pink morsel</td>\n",
       "      <td>$3.00</td>\n",
       "      <td>549</td>\n",
       "      <td>2018-02-06</td>\n",
       "      <td>south</td>\n",
       "    </tr>\n",
       "    <tr>\n",
       "      <th>2</th>\n",
       "      <td>pink morsel</td>\n",
       "      <td>$3.00</td>\n",
       "      <td>577</td>\n",
       "      <td>2018-02-06</td>\n",
       "      <td>east</td>\n",
       "    </tr>\n",
       "    <tr>\n",
       "      <th>3</th>\n",
       "      <td>pink morsel</td>\n",
       "      <td>$3.00</td>\n",
       "      <td>519</td>\n",
       "      <td>2018-02-06</td>\n",
       "      <td>west</td>\n",
       "    </tr>\n",
       "    <tr>\n",
       "      <th>4</th>\n",
       "      <td>gold morsel</td>\n",
       "      <td>$9.99</td>\n",
       "      <td>580</td>\n",
       "      <td>2018-02-06</td>\n",
       "      <td>north</td>\n",
       "    </tr>\n",
       "  </tbody>\n",
       "</table>\n",
       "</div>"
      ],
      "text/plain": [
       "       product  price  quantity        date region\n",
       "0  pink morsel  $3.00       546  2018-02-06  north\n",
       "1  pink morsel  $3.00       549  2018-02-06  south\n",
       "2  pink morsel  $3.00       577  2018-02-06   east\n",
       "3  pink morsel  $3.00       519  2018-02-06   west\n",
       "4  gold morsel  $9.99       580  2018-02-06  north"
      ]
     },
     "execution_count": 6,
     "metadata": {},
     "output_type": "execute_result"
    }
   ],
   "source": [
    "df.head(5)"
   ]
  },
  {
   "cell_type": "code",
   "execution_count": 7,
   "id": "6b5f66b4-cf99-4ce5-bafc-72b956a76680",
   "metadata": {},
   "outputs": [
    {
     "data": {
      "text/plain": [
       "Index(['product', 'price', 'quantity', 'date', 'region'], dtype='object')"
      ]
     },
     "execution_count": 7,
     "metadata": {},
     "output_type": "execute_result"
    }
   ],
   "source": [
    "df.columns"
   ]
  },
  {
   "cell_type": "code",
   "execution_count": 8,
   "id": "e3609266-d731-41ab-a0ab-4e29be8c04f5",
   "metadata": {},
   "outputs": [
    {
     "data": {
      "text/plain": [
       "product\n",
       "pink morsel          5880\n",
       "gold morsel          5880\n",
       "magenta morsel       5880\n",
       "chartreuse morsel    5880\n",
       "periwinkle morsel    5880\n",
       "vermilion morsel     5880\n",
       "lapis morsel         5880\n",
       "Name: count, dtype: int64"
      ]
     },
     "execution_count": 8,
     "metadata": {},
     "output_type": "execute_result"
    }
   ],
   "source": [
    "df[\"product\"].value_counts(dropna=False)"
   ]
  },
  {
   "cell_type": "code",
   "execution_count": 9,
   "id": "2e54111d-10c5-4c29-9206-6f962cf8031e",
   "metadata": {},
   "outputs": [],
   "source": [
    "df= df[df[\"product\"]== \"pink morsel\"]"
   ]
  },
  {
   "cell_type": "code",
   "execution_count": 10,
   "id": "4220b0cf-3488-489a-aaee-dfa418ecf407",
   "metadata": {},
   "outputs": [
    {
     "data": {
      "text/plain": [
       "product\n",
       "pink morsel    5880\n",
       "Name: count, dtype: int64"
      ]
     },
     "execution_count": 10,
     "metadata": {},
     "output_type": "execute_result"
    }
   ],
   "source": [
    "df[\"product\"].value_counts(dropna=False)"
   ]
  },
  {
   "cell_type": "code",
   "execution_count": 11,
   "id": "9787e989-5adb-43cd-b75e-1a88c4095c01",
   "metadata": {},
   "outputs": [
    {
     "data": {
      "text/plain": [
       "price\n",
       "$3.00    4296\n",
       "$5.00    1584\n",
       "Name: count, dtype: int64"
      ]
     },
     "execution_count": 11,
     "metadata": {},
     "output_type": "execute_result"
    }
   ],
   "source": [
    "df[\"price\"].value_counts(dropna=False)"
   ]
  },
  {
   "cell_type": "code",
   "execution_count": 12,
   "id": "18bc9d6c-9c9d-4567-a9be-9b365edc6a31",
   "metadata": {},
   "outputs": [
    {
     "data": {
      "text/plain": [
       "Index(['product', 'price', 'quantity', 'date', 'region'], dtype='object')"
      ]
     },
     "execution_count": 12,
     "metadata": {},
     "output_type": "execute_result"
    }
   ],
   "source": [
    "df.columns"
   ]
  },
  {
   "cell_type": "code",
   "execution_count": 13,
   "id": "b7c7d4f4-c3b7-4e05-a1a2-0a1807958831",
   "metadata": {},
   "outputs": [],
   "source": [
    "df[\"price\"] = df[\"price\"].str.replace(\"$\", \"\", regex=False)\n",
    "df[\"price\"]= df[\"price\"].astype(float)\n",
    "df[\"quantity\"]= df[\"quantity\"].astype(int)\n"
   ]
  },
  {
   "cell_type": "code",
   "execution_count": 14,
   "id": "9907b2ff-12ee-4678-a4be-ace0363d0c8f",
   "metadata": {},
   "outputs": [
    {
     "data": {
      "text/plain": [
       "quantity\n",
       "500    57\n",
       "578    57\n",
       "519    55\n",
       "511    54\n",
       "550    54\n",
       "       ..\n",
       "494    10\n",
       "437     9\n",
       "406     7\n",
       "420     6\n",
       "493     5\n",
       "Name: count, Length: 201, dtype: int64"
      ]
     },
     "execution_count": 14,
     "metadata": {},
     "output_type": "execute_result"
    }
   ],
   "source": [
    "df[\"quantity\"].value_counts()"
   ]
  },
  {
   "cell_type": "code",
   "execution_count": 15,
   "id": "c54a3527-746a-445e-83ca-88502b16aa4c",
   "metadata": {},
   "outputs": [],
   "source": [
    "df[\"sales\"]= df[\"price\"] * df[\"quantity\"]"
   ]
  },
  {
   "cell_type": "code",
   "execution_count": 16,
   "id": "b2b8f9c0-b4f1-4cce-8837-32852ab5d0d5",
   "metadata": {},
   "outputs": [
    {
     "data": {
      "text/plain": [
       "sales\n",
       "1734.0    57\n",
       "1557.0    55\n",
       "1650.0    54\n",
       "1662.0    54\n",
       "1533.0    54\n",
       "          ..\n",
       "2355.0    10\n",
       "2185.0     9\n",
       "2030.0     7\n",
       "2100.0     6\n",
       "2465.0     5\n",
       "Name: count, Length: 202, dtype: int64"
      ]
     },
     "execution_count": 16,
     "metadata": {},
     "output_type": "execute_result"
    }
   ],
   "source": [
    "df[\"sales\"].value_counts()"
   ]
  },
  {
   "cell_type": "code",
   "execution_count": 17,
   "id": "78c83fe7-5419-4e48-8fc6-5ecad03149d7",
   "metadata": {},
   "outputs": [],
   "source": [
    "df= df.drop([\"quantity\" , \"price\", \"product\"], axis= 1 )"
   ]
  },
  {
   "cell_type": "code",
   "execution_count": 18,
   "id": "5d8f51dd-e8f8-400a-b3e5-111d79d07e6f",
   "metadata": {},
   "outputs": [
    {
     "data": {
      "text/plain": [
       "Index(['date', 'region', 'sales'], dtype='object')"
      ]
     },
     "execution_count": 18,
     "metadata": {},
     "output_type": "execute_result"
    }
   ],
   "source": [
    "df.columns"
   ]
  },
  {
   "cell_type": "code",
   "execution_count": 19,
   "id": "c480ab67-cf86-49fa-9923-9a52edbc1342",
   "metadata": {},
   "outputs": [],
   "source": [
    "df.to_csv(\"combined_file.csv\", index= False)"
   ]
  },
  {
   "cell_type": "code",
   "execution_count": null,
   "id": "78f94fa7-1a46-46e8-abce-e573fb5fd3c1",
   "metadata": {},
   "outputs": [],
   "source": []
  }
 ],
 "metadata": {
  "kernelspec": {
   "display_name": "Python 3 (ipykernel)",
   "language": "python",
   "name": "python3"
  },
  "language_info": {
   "codemirror_mode": {
    "name": "ipython",
    "version": 3
   },
   "file_extension": ".py",
   "mimetype": "text/x-python",
   "name": "python",
   "nbconvert_exporter": "python",
   "pygments_lexer": "ipython3",
   "version": "3.11.0"
  }
 },
 "nbformat": 4,
 "nbformat_minor": 5
}
